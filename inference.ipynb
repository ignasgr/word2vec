{
 "cells": [
  {
   "cell_type": "code",
   "execution_count": 1,
   "metadata": {},
   "outputs": [],
   "source": [
    "import torch\n",
    "import torch.nn.functional as F\n",
    "from heapq import nlargest\n",
    "\n",
    "from src.model import CBOW\n",
    "from src.constants import EMBEDDING_DIMS"
   ]
  },
  {
   "cell_type": "code",
   "execution_count": 12,
   "metadata": {},
   "outputs": [],
   "source": [
    "def get_word_embedding(model, word, vocab):\n",
    "    idx = vocab[word]\n",
    "    with torch.no_grad():\n",
    "        embedding = model.embeddings(torch.tensor(idx))\n",
    "    return embedding.squeeze(0)\n",
    "\n",
    "\n",
    "def find_most_similar_words(model, word, vocab, N=5):\n",
    "    \n",
    "    word_embedding = get_word_embedding(model, word, vocab)\n",
    "\n",
    "    similarities = {}\n",
    "    with torch.no_grad():\n",
    "        for other_word in vocab.get_itos():\n",
    "            other_embedding = get_word_embedding(model, other_word, vocab)\n",
    "            similarity = F.cosine_similarity(word_embedding.unsqueeze(0), other_embedding.unsqueeze(0)).item()\n",
    "            similarities[other_word] = similarity\n",
    "\n",
    "    # Get the top N most similar words\n",
    "    most_similar = nlargest(N, similarities, key=similarities.get)\n",
    "\n",
    "    return [(word, similarities[word]) for word in most_similar]\n"
   ]
  },
  {
   "cell_type": "code",
   "execution_count": 13,
   "metadata": {},
   "outputs": [
    {
     "data": {
      "text/plain": [
       "CBOW(\n",
       "  (embeddings): Embedding(10001, 300)\n",
       "  (linear): Linear(in_features=300, out_features=10001, bias=True)\n",
       ")"
      ]
     },
     "execution_count": 13,
     "metadata": {},
     "output_type": "execute_result"
    }
   ],
   "source": [
    "# loading the vocabulary\n",
    "vocab = torch.load(\"./checkpoints/vocab.pt\")\n",
    "\n",
    "# loading the model\n",
    "model = CBOW(vocab_size=len(vocab), dims=EMBEDDING_DIMS)\n",
    "model.load_state_dict(torch.load(\"./checkpoints/model_epoch_5.pt\"))\n",
    "model.eval()"
   ]
  },
  {
   "cell_type": "code",
   "execution_count": 14,
   "metadata": {},
   "outputs": [],
   "source": [
    "# get_word_embedding(model=model, word=\"tree\", vocab=vocab)"
   ]
  },
  {
   "cell_type": "code",
   "execution_count": 22,
   "metadata": {},
   "outputs": [
    {
     "name": "stdout",
     "output_type": "stream",
     "text": [
      "house 0.9999998807907104\n",
      "building 0.22196169197559357\n",
      "preparatory 0.19675834476947784\n",
      "shock 0.19357812404632568\n",
      "sir 0.1928451806306839\n",
      "theodore 0.18704940378665924\n",
      "cathedral 0.18146641552448273\n",
      "theater 0.1805182844400406\n",
      "gas 0.17933134734630585\n",
      "abbey 0.17814625799655914\n"
     ]
    }
   ],
   "source": [
    "# Example usage\n",
    "word = 'house'\n",
    "N = 10\n",
    "\n",
    "top_n_similar_words = find_most_similar_words(model, word, vocab, N=N)\n",
    "\n",
    "for w, sim in top_n_similar_words:\n",
    "    print(w, sim)"
   ]
  }
 ],
 "metadata": {
  "kernelspec": {
   "display_name": "word2vec",
   "language": "python",
   "name": "python3"
  },
  "language_info": {
   "codemirror_mode": {
    "name": "ipython",
    "version": 3
   },
   "file_extension": ".py",
   "mimetype": "text/x-python",
   "name": "python",
   "nbconvert_exporter": "python",
   "pygments_lexer": "ipython3",
   "version": "3.10.7"
  }
 },
 "nbformat": 4,
 "nbformat_minor": 2
}
