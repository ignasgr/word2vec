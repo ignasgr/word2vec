{
 "cells": [
  {
   "cell_type": "code",
   "execution_count": 1,
   "metadata": {},
   "outputs": [],
   "source": [
    "import torch\n",
    "import torch.nn.functional as F\n",
    "from heapq import nlargest\n",
    "\n",
    "from src.model import CBOW, SkipGram\n",
    "from src.constants import EMBEDDING_DIMS"
   ]
  },
  {
   "cell_type": "code",
   "execution_count": 2,
   "metadata": {},
   "outputs": [],
   "source": [
    "def get_word_embedding(model, word, vocab):\n",
    "    idx = vocab[word]\n",
    "    with torch.no_grad():\n",
    "        embedding = model.embeddings(torch.tensor(idx))\n",
    "    return embedding.squeeze(0)\n",
    "\n",
    "\n",
    "def find_most_similar_words(model, word, vocab, N=5):\n",
    "    \n",
    "    word_embedding = get_word_embedding(model, word, vocab)\n",
    "\n",
    "    similarities = {}\n",
    "    with torch.no_grad():\n",
    "        for other_word in vocab.get_itos():\n",
    "            if other_word == word:\n",
    "                continue\n",
    "            other_embedding = get_word_embedding(model, other_word, vocab)\n",
    "            similarity = F.cosine_similarity(word_embedding.unsqueeze(0), other_embedding.unsqueeze(0)).item()\n",
    "            similarities[other_word] = similarity\n",
    "\n",
    "    # Get the top N most similar words\n",
    "    most_similar = nlargest(N, similarities, key=similarities.get)\n",
    "\n",
    "    return [(word, similarities[word]) for word in most_similar]\n"
   ]
  },
  {
   "cell_type": "code",
   "execution_count": 3,
   "metadata": {},
   "outputs": [],
   "source": [
    "# loading the vocabulary\n",
    "vocab = torch.load(\"./checkpoints/vocab.pt\")\n",
    "\n",
    "# loading the trained model\n",
    "model_trained = SkipGram(vocab_size=len(vocab), dims=EMBEDDING_DIMS)\n",
    "model_trained.load_state_dict(torch.load(\"./checkpoints/skipgram_epoch_10.pt\"))\n",
    "model_trained.eval()\n",
    "\n",
    "# loading an untrained model, for comparison\n",
    "model_untrained = SkipGram(vocab_size=len(vocab), dims=EMBEDDING_DIMS)"
   ]
  },
  {
   "cell_type": "code",
   "execution_count": 4,
   "metadata": {},
   "outputs": [],
   "source": [
    "# get_word_embedding(model=model, word=\"tree\", vocab=vocab)"
   ]
  },
  {
   "cell_type": "code",
   "execution_count": 11,
   "metadata": {},
   "outputs": [
    {
     "name": "stdout",
     "output_type": "stream",
     "text": [
      "flowers 0.6539772152900696\n",
      "breed 0.6475479006767273\n",
      "trees 0.625266969203949\n",
      "sheep 0.5927416086196899\n",
      "milk 0.5834458470344543\n",
      "leaves 0.5726682543754578\n",
      "insects 0.5712876319885254\n",
      "vegetables 0.5630152225494385\n",
      "fruits 0.5623157024383545\n",
      "diet 0.5562630891799927\n"
     ]
    }
   ],
   "source": [
    "# Example usage\n",
    "# word = 'house'\n",
    "# word = 'car'\n",
    "# word = 'economics'\n",
    "word = 'fruit'\n",
    "N = 10\n",
    "\n",
    "top_n_similar_words = find_most_similar_words(model_trained, word, vocab, N=N)\n",
    "\n",
    "for w, sim in top_n_similar_words:\n",
    "    print(w, sim)"
   ]
  },
  {
   "cell_type": "code",
   "execution_count": 6,
   "metadata": {},
   "outputs": [
    {
     "name": "stdout",
     "output_type": "stream",
     "text": [
      "protesters 0.3924030661582947\n",
      "mixes 0.3781982660293579\n",
      "gulf 0.34597140550613403\n",
      "emigrated 0.3322027325630188\n",
      "metric 0.3302080035209656\n",
      "audiences 0.32061439752578735\n",
      "floating 0.3184584677219391\n",
      "degrees 0.3180517256259918\n",
      "former 0.3172435462474823\n",
      "voters 0.31590351462364197\n"
     ]
    }
   ],
   "source": [
    "top_n_similar_words = find_most_similar_words(model_untrained, word, vocab, N=N)\n",
    "\n",
    "for w, sim in top_n_similar_words:\n",
    "    print(w, sim)"
   ]
  }
 ],
 "metadata": {
  "kernelspec": {
   "display_name": "word2vec",
   "language": "python",
   "name": "word2vec"
  },
  "language_info": {
   "codemirror_mode": {
    "name": "ipython",
    "version": 3
   },
   "file_extension": ".py",
   "mimetype": "text/x-python",
   "name": "python",
   "nbconvert_exporter": "python",
   "pygments_lexer": "ipython3",
   "version": "3.10.13"
  }
 },
 "nbformat": 4,
 "nbformat_minor": 2
}
