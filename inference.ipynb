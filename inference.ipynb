{
 "cells": [
  {
   "cell_type": "code",
   "execution_count": 1,
   "metadata": {},
   "outputs": [],
   "source": [
    "import torch\n",
    "import torch.nn.functional as F\n",
    "from heapq import nlargest\n",
    "\n",
    "from src.model import CBOW, SkipGram\n",
    "from src.constants import EMBEDDING_DIMS"
   ]
  },
  {
   "cell_type": "code",
   "execution_count": 2,
   "metadata": {},
   "outputs": [],
   "source": [
    "def get_word_embedding(model, word, vocab):\n",
    "    idx = vocab[word]\n",
    "    with torch.no_grad():\n",
    "        embedding = model.embeddings(torch.tensor(idx))\n",
    "    return embedding.squeeze(0)\n",
    "\n",
    "\n",
    "def find_most_similar_words(model, word, vocab, N=5):\n",
    "    \n",
    "    word_embedding = get_word_embedding(model, word, vocab)\n",
    "\n",
    "    similarities = {}\n",
    "    with torch.no_grad():\n",
    "        for other_word in vocab.get_itos():\n",
    "            if other_word == word:\n",
    "                continue\n",
    "            other_embedding = get_word_embedding(model, other_word, vocab)\n",
    "            similarity = F.cosine_similarity(word_embedding.unsqueeze(0), other_embedding.unsqueeze(0)).item()\n",
    "            similarities[other_word] = similarity\n",
    "\n",
    "    # Get the top N most similar words\n",
    "    most_similar = nlargest(N, similarities, key=similarities.get)\n",
    "\n",
    "    return [(word, similarities[word]) for word in most_similar]\n"
   ]
  },
  {
   "cell_type": "code",
   "execution_count": 4,
   "metadata": {},
   "outputs": [
    {
     "data": {
      "text/plain": [
       "SkipGram(\n",
       "  (embeddings): Embedding(10001, 100)\n",
       "  (linear): Linear(in_features=100, out_features=10001, bias=True)\n",
       ")"
      ]
     },
     "execution_count": 4,
     "metadata": {},
     "output_type": "execute_result"
    }
   ],
   "source": [
    "# loading cbow model\n",
    "cbow_vocab = torch.load(\"./checkpoints/cbow_vocab.pt\")\n",
    "cbow_model_trained = CBOW(vocab_size=len(cbow_vocab), dims=EMBEDDING_DIMS)\n",
    "cbow_model_trained.load_state_dict(torch.load(\"./checkpoints/cbow_epoch_10.pt\"))\n",
    "cbow_model_trained.eval()\n",
    "\n",
    "# loading the skipgram model\n",
    "skipgram_vocab = torch.load(\"./checkpoints/skipgram_vocab.pt\")\n",
    "skipgram_model_trained = SkipGram(vocab_size=len(skipgram_vocab), dims=EMBEDDING_DIMS)\n",
    "skipgram_model_trained.load_state_dict(torch.load(\"./checkpoints/skipgram_epoch_10.pt\"))\n",
    "skipgram_model_trained.eval()\n",
    "\n",
    "# # loading an untrained model, for comparison\n",
    "# model_untrained = SkipGram(vocab_size=len(vocab), dims=EMBEDDING_DIMS)"
   ]
  },
  {
   "cell_type": "code",
   "execution_count": 4,
   "metadata": {},
   "outputs": [],
   "source": [
    "# get_word_embedding(model=model, word=\"tree\", vocab=vocab)"
   ]
  },
  {
   "cell_type": "code",
   "execution_count": 5,
   "metadata": {},
   "outputs": [],
   "source": [
    "# Example usage\n",
    "word = 'house'\n",
    "# word = 'car'\n",
    "# word = 'economics'\n",
    "# word = 'fruit'\n",
    "N = 10\n",
    "\n",
    "top_n_cbow = find_most_similar_words(cbow_model_trained, word, cbow_vocab, N=N)\n",
    "top_n_skipgram = find_most_similar_words(skipgram_model_trained, word, skipgram_vocab, N=N)"
   ]
  },
  {
   "cell_type": "code",
   "execution_count": 6,
   "metadata": {},
   "outputs": [
    {
     "name": "stdout",
     "output_type": "stream",
     "text": [
      "hotel 0.43081992864608765\n",
      "husband 0.39525988698005676\n",
      "death 0.37713193893432617\n",
      "theater 0.37603211402893066\n",
      "church 0.35864508152008057\n",
      "home 0.3533965051174164\n",
      "demons 0.34911173582077026\n",
      "apartment 0.3458288013935089\n",
      "execution 0.3455311059951782\n",
      "grandfather 0.3419297933578491\n"
     ]
    }
   ],
   "source": [
    "for w, sim in top_n_cbow:\n",
    "    print(w, sim)"
   ]
  },
  {
   "cell_type": "code",
   "execution_count": 7,
   "metadata": {},
   "outputs": [
    {
     "name": "stdout",
     "output_type": "stream",
     "text": [
      "manor 0.5029898285865784\n",
      "representatives 0.4920727014541626\n",
      "parliament 0.49096861481666565\n",
      "lady 0.4853280186653137\n",
      "chamber 0.46166378259658813\n",
      "hall 0.45709162950515747\n",
      "houses 0.4455133378505707\n",
      "family 0.44139552116394043\n",
      "widow 0.43966275453567505\n",
      "queen 0.4377342462539673\n"
     ]
    }
   ],
   "source": [
    "for w, sim in top_n_skipgram:\n",
    "    print(w, sim)"
   ]
  }
 ],
 "metadata": {
  "kernelspec": {
   "display_name": "word2vec",
   "language": "python",
   "name": "word2vec"
  },
  "language_info": {
   "codemirror_mode": {
    "name": "ipython",
    "version": 3
   },
   "file_extension": ".py",
   "mimetype": "text/x-python",
   "name": "python",
   "nbconvert_exporter": "python",
   "pygments_lexer": "ipython3",
   "version": "3.10.13"
  }
 },
 "nbformat": 4,
 "nbformat_minor": 2
}
